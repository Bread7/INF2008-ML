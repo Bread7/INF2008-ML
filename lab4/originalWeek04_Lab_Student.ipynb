{
  "nbformat": 4,
  "nbformat_minor": 0,
  "metadata": {
    "colab": {
      "provenance": []
    },
    "kernelspec": {
      "name": "python3",
      "display_name": "Python 3"
    },
    "language_info": {
      "name": "python"
    }
  },
  "cells": [
    {
      "cell_type": "markdown",
      "source": [
        "### Week 04 Lab: Simple Linear Regression"
      ],
      "metadata": {
        "id": "O-LHnFaRLROK"
      }
    },
    {
      "cell_type": "markdown",
      "source": [
        "In this lab, we will learn how to develop a simple linear regression model from scratch. After which we will verify our results using the common package from sklearn. By the end of this lab, you should be able to:\n",
        "*   implement the simple linear regression algorithm in python\n",
        "*   use your own algorithm to create a simple linear regression model from data\n",
        "*   use the library from sklearn to create a simple linear regression model from data\n"
      ],
      "metadata": {
        "id": "QucnanVmZhq6"
      }
    },
    {
      "cell_type": "markdown",
      "source": [
        "### Section 1.0 Importation of libraries\n",
        "\n",
        "We will import some of the typical python libraries."
      ],
      "metadata": {
        "id": "Sb2nmHzBeCcB"
      }
    },
    {
      "cell_type": "code",
      "execution_count": null,
      "metadata": {
        "id": "zPmKPDGKEHml"
      },
      "outputs": [],
      "source": [
        "import random\n",
        "import numpy as np\n",
        "import pandas as pd\n",
        "import matplotlib.pyplot as plt"
      ]
    },
    {
      "cell_type": "markdown",
      "source": [
        "### Section 1.1 Create the data points"
      ],
      "metadata": {
        "id": "u9JMVor3N6Jw"
      }
    },
    {
      "cell_type": "markdown",
      "source": [
        "For this lab, we will be generating the dataset randomly. These numbers are represented generally by the formula.\n",
        "\n",
        "$y = 2 * x + rand(-18,27)$\n",
        "\n",
        "A random number in between -18 to 27 will be added to the formula (2 * x) to provide some randomization to the $y$ values. Do note that although the numbers are randomly generated, all of us should have the same set of numbers. (why?)\n",
        "\n",
        "In this section we will be generating just 50 points. For the time being, we will ignore the need for training data, testing data etc and just use all 50 points as training data. The main point of the Lab is really to understand the linear regression algorithm."
      ],
      "metadata": {
        "id": "ymN32sOnLzTG"
      }
    },
    {
      "cell_type": "code",
      "source": [
        "random.seed(5)\n",
        "\n",
        "num_points = 50\n",
        "X_data = np.array(random.sample(range(1, 100), num_points))\n",
        "y_data = X_data * 2 + np.array([random.randint(-18, 27) for x in range(num_points)])\n",
        "\n",
        "print(len(X_data))\n",
        "print(len(y_data))"
      ],
      "metadata": {
        "colab": {
          "base_uri": "https://localhost:8080/"
        },
        "id": "M26XMK7QFc2L",
        "outputId": "e8e3e9d1-7335-4b13-b4b1-0626ddeef287"
      },
      "execution_count": null,
      "outputs": [
        {
          "output_type": "stream",
          "name": "stdout",
          "text": [
            "50\n",
            "50\n"
          ]
        }
      ]
    },
    {
      "cell_type": "markdown",
      "source": [
        "Lets do a quick plot of the points to visually see how they look like.\n",
        "\n",
        "Plot a scatter plot between X_data and y_data."
      ],
      "metadata": {
        "id": "z6bk8wKDMS2c"
      }
    },
    {
      "cell_type": "code",
      "source": [],
      "metadata": {
        "colab": {
          "base_uri": "https://localhost:8080/",
          "height": 447
        },
        "id": "suOft0a2GPlA",
        "outputId": "08178d0a-aef8-43af-8368-619d909851e4"
      },
      "execution_count": null,
      "outputs": [
        {
          "output_type": "execute_result",
          "data": {
            "text/plain": [
              "<matplotlib.collections.PathCollection at 0x7acd9a894670>"
            ]
          },
          "metadata": {},
          "execution_count": 3
        },
        {
          "output_type": "display_data",
          "data": {
            "text/plain": [
              "<Figure size 640x480 with 1 Axes>"
            ],
            "image/png": "[encoded data removed]"
          },
          "metadata": {}
        }
      ]
    },
    {
      "cell_type": "markdown",
      "source": [
        "Convert the points to a dataframe and do a quick view of the first few rows. Name the columns \"x\", for X_data and \"y\" for y_data."
      ],
      "metadata": {
        "id": "C8YcEDxyNqvF"
      }
    },
    {
      "cell_type": "code",
      "source": [],
      "metadata": {
        "id": "r3mJloCCH-xg"
      },
      "execution_count": null,
      "outputs": []
    },
    {
      "cell_type": "markdown",
      "source": [
        "Check the first five rows of the dataframe."
      ],
      "metadata": {
        "id": "BdybDwL5rDJH"
      }
    },
    {
      "cell_type": "code",
      "source": [],
      "metadata": {
        "colab": {
          "base_uri": "https://localhost:8080/",
          "height": 206
        },
        "id": "WilOfPX_IHXU",
        "outputId": "da5341df-d1b2-4b09-8fb2-e90ddbd7916f"
      },
      "execution_count": null,
      "outputs": [
        {
          "output_type": "execute_result",
          "data": {
            "text/plain": [
              "    x    y\n",
              "0  80  186\n",
              "1  33   60\n",
              "2  95  196\n",
              "3  46   93\n",
              "4  89  161"
            ],
            "text/html": [
              "\n",
              "  <div id=\"df-c9357e74-502e-4b70-b018-cf359b737894\" class=\"colab-df-container\">\n",
              "    <div>\n",
              "<style scoped>\n",
              "    .dataframe tbody tr th:only-of-type {\n",
              "        vertical-align: middle;\n",
              "    }\n",
              "\n",
              "    .dataframe tbody tr th {\n",
              "        vertical-align: top;\n",
              "    }\n",
              "\n",
              "    .dataframe thead th {\n",
              "        text-align: right;\n",
              "    }\n",
              "</style>\n",
              "<table border=\"1\" class=\"dataframe\">\n",
              "  <thead>\n",
              "    <tr style=\"text-align: right;\">\n",
              "      <th></th>\n",
              "      <th>x</th>\n",
              "      <th>y</th>\n",
              "    </tr>\n",
              "  </thead>\n",
              "  <tbody>\n",
              "    <tr>\n",
              "      <th>0</th>\n",
              "      <td>80</td>\n",
              "      <td>186</td>\n",
              "    </tr>\n",
              "    <tr>\n",
              "      <th>1</th>\n",
              "      <td>33</td>\n",
              "      <td>60</td>\n",
              "    </tr>\n",
              "    <tr>\n",
              "      <th>2</th>\n",
              "      <td>95</td>\n",
              "      <td>196</td>\n",
              "    </tr>\n",
              "    <tr>\n",
              "      <th>3</th>\n",
              "      <td>46</td>\n",
              "      <td>93</td>\n",
              "    </tr>\n",
              "    <tr>\n",
              "      <th>4</th>\n",
              "      <td>89</td>\n",
              "      <td>161</td>\n",
              "    </tr>\n",
              "  </tbody>\n",
              "</table>\n",
              "</div>\n",
              "    <div class=\"colab-df-buttons\">\n",
              "\n",
              "  <div class=\"colab-df-container\">\n",
              "    <button class=\"colab-df-convert\" onclick=\"convertToInteractive('df-c9357e74-502e-4b70-b018-cf359b737894')\"\n",
              "            title=\"Convert this dataframe to an interactive table.\"\n",
              "            style=\"display:none;\">\n",
              "\n",
              "  <svg xmlns=\"http://www.w3.org/2000/svg\" height=\"24px\" viewBox=\"0 -960 960 960\">\n",
              "    <path d=\"M120-120v-720h720v720H120Zm60-500h600v-160H180v160Zm220 220h160v-160H400v160Zm0 220h160v-160H400v160ZM180-400h160v-160H180v160Zm440 0h160v-160H620v160ZM180-180h160v-160H180v160Zm440 0h160v-160H620v160Z\"/>\n",
              "  </svg>\n",
              "    </button>\n",
              "\n",
              "  <style>\n",
              "    .colab-df-container {\n",
              "      display:flex;\n",
              "      gap: 12px;\n",
              "    }\n",
              "\n",
              "    .colab-df-convert {\n",
              "      background-color: #E8F0FE;\n",
              "      border: none;\n",
              "      border-radius: 50%;\n",
              "      cursor: pointer;\n",
              "      display: none;\n",
              "      fill: #1967D2;\n",
              "      height: 32px;\n",
              "      padding: 0 0 0 0;\n",
              "      width: 32px;\n",
              "    }\n",
              "\n",
              "    .colab-df-convert:hover {\n",
              "      background-color: #E2EBFA;\n",
              "      box-shadow: 0px 1px 2px rgba(60, 64, 67, 0.3), 0px 1px 3px 1px rgba(60, 64, 67, 0.15);\n",
              "      fill: #174EA6;\n",
              "    }\n",
              "\n",
              "    .colab-df-buttons div {\n",
              "      margin-bottom: 4px;\n",
              "    }\n",
              "\n",
              "    [theme=dark] .colab-df-convert {\n",
              "      background-color: #3B4455;\n",
              "      fill: #D2E3FC;\n",
              "    }\n",
              "\n",
              "    [theme=dark] .colab-df-convert:hover {\n",
              "      background-color: #434B5C;\n",
              "      box-shadow: 0px 1px 3px 1px rgba(0, 0, 0, 0.15);\n",
              "      filter: drop-shadow(0px 1px 2px rgba(0, 0, 0, 0.3));\n",
              "      fill: #FFFFFF;\n",
              "    }\n",
              "  </style>\n",
              "\n",
              "    <script>\n",
              "      const buttonEl =\n",
              "        document.querySelector('#df-c9357e74-502e-4b70-b018-cf359b737894 button.colab-df-convert');\n",
              "      buttonEl.style.display =\n",
              "        google.colab.kernel.accessAllowed ? 'block' : 'none';\n",
              "\n",
              "      async function convertToInteractive(key) {\n",
              "        const element = document.querySelector('#df-c9357e74-502e-4b70-b018-cf359b737894');\n",
              "        const dataTable =\n",
              "          await google.colab.kernel.invokeFunction('convertToInteractive',\n",
              "                                                    [key], {});\n",
              "        if (!dataTable) return;\n",
              "\n",
              "        const docLinkHtml = 'Like what you see? Visit the ' +\n",
              "          '<a target=\"_blank\" href=https://colab.research.google.com/notebooks/data_table.ipynb>data table notebook</a>'\n",
              "          + ' to learn more about interactive tables.';\n",
              "        element.innerHTML = '';\n",
              "        dataTable['output_type'] = 'display_data';\n",
              "        await google.colab.output.renderOutput(dataTable, element);\n",
              "        const docLink = document.createElement('div');\n",
              "        docLink.innerHTML = docLinkHtml;\n",
              "        element.appendChild(docLink);\n",
              "      }\n",
              "    </script>\n",
              "  </div>\n",
              "\n",
              "\n",
              "<div id=\"df-aba568ad-0df4-470f-8fe4-71535bf96b79\">\n",
              "  <button class=\"colab-df-quickchart\" onclick=\"quickchart('df-aba568ad-0df4-470f-8fe4-71535bf96b79')\"\n",
              "            title=\"Suggest charts\"\n",
              "            style=\"display:none;\">\n",
              "\n",
              "<svg xmlns=\"http://www.w3.org/2000/svg\" height=\"24px\"viewBox=\"0 0 24 24\"\n",
              "     width=\"24px\">\n",
              "    <g>\n",
              "        <path d=\"M19 3H5c-1.1 0-2 .9-2 2v14c0 1.1.9 2 2 2h14c1.1 0 2-.9 2-2V5c0-1.1-.9-2-2-2zM9 17H7v-7h2v7zm4 0h-2V7h2v10zm4 0h-2v-4h2v4z\"/>\n",
              "    </g>\n",
              "</svg>\n",
              "  </button>\n",
              "\n",
              "<style>\n",
              "  .colab-df-quickchart {\n",
              "      --bg-color: #E8F0FE;\n",
              "      --fill-color: #1967D2;\n",
              "      --hover-bg-color: #E2EBFA;\n",
              "      --hover-fill-color: #174EA6;\n",
              "      --disabled-fill-color: #AAA;\n",
              "      --disabled-bg-color: #DDD;\n",
              "  }\n",
              "\n",
              "  [theme=dark] .colab-df-quickchart {\n",
              "      --bg-color: #3B4455;\n",
              "      --fill-color: #D2E3FC;\n",
              "      --hover-bg-color: #434B5C;\n",
              "      --hover-fill-color: #FFFFFF;\n",
              "      --disabled-bg-color: #3B4455;\n",
              "      --disabled-fill-color: #666;\n",
              "  }\n",
              "\n",
              "  .colab-df-quickchart {\n",
              "    background-color: var(--bg-color);\n",
              "    border: none;\n",
              "    border-radius: 50%;\n",
              "    cursor: pointer;\n",
              "    display: none;\n",
              "    fill: var(--fill-color);\n",
              "    height: 32px;\n",
              "    padding: 0;\n",
              "    width: 32px;\n",
              "  }\n",
              "\n",
              "  .colab-df-quickchart:hover {\n",
              "    background-color: var(--hover-bg-color);\n",
              "    box-shadow: 0 1px 2px rgba(60, 64, 67, 0.3), 0 1px 3px 1px rgba(60, 64, 67, 0.15);\n",
              "    fill: var(--button-hover-fill-color);\n",
              "  }\n",
              "\n",
              "  .colab-df-quickchart-complete:disabled,\n",
              "  .colab-df-quickchart-complete:disabled:hover {\n",
              "    background-color: var(--disabled-bg-color);\n",
              "    fill: var(--disabled-fill-color);\n",
              "    box-shadow: none;\n",
              "  }\n",
              "\n",
              "  .colab-df-spinner {\n",
              "    border: 2px solid var(--fill-color);\n",
              "    border-color: transparent;\n",
              "    border-bottom-color: var(--fill-color);\n",
              "    animation:\n",
              "      spin 1s steps(1) infinite;\n",
              "  }\n",
              "\n",
              "  @keyframes spin {\n",
              "    0% {\n",
              "      border-color: transparent;\n",
              "      border-bottom-color: var(--fill-color);\n",
              "      border-left-color: var(--fill-color);\n",
              "    }\n",
              "    20% {\n",
              "      border-color: transparent;\n",
              "      border-left-color: var(--fill-color);\n",
              "      border-top-color: var(--fill-color);\n",
              "    }\n",
              "    30% {\n",
              "      border-color: transparent;\n",
              "      border-left-color: var(--fill-color);\n",
              "      border-top-color: var(--fill-color);\n",
              "      border-right-color: var(--fill-color);\n",
              "    }\n",
              "    40% {\n",
              "      border-color: transparent;\n",
              "      border-right-color: var(--fill-color);\n",
              "      border-top-color: var(--fill-color);\n",
              "    }\n",
              "    60% {\n",
              "      border-color: transparent;\n",
              "      border-right-color: var(--fill-color);\n",
              "    }\n",
              "    80% {\n",
              "      border-color: transparent;\n",
              "      border-right-color: var(--fill-color);\n",
              "      border-bottom-color: var(--fill-color);\n",
              "    }\n",
              "    90% {\n",
              "      border-color: transparent;\n",
              "      border-bottom-color: var(--fill-color);\n",
              "    }\n",
              "  }\n",
              "</style>\n",
              "\n",
              "  <script>\n",
              "    async function quickchart(key) {\n",
              "      const quickchartButtonEl =\n",
              "        document.querySelector('#' + key + ' button');\n",
              "      quickchartButtonEl.disabled = true;  // To prevent multiple clicks.\n",
              "      quickchartButtonEl.classList.add('colab-df-spinner');\n",
              "      try {\n",
              "        const charts = await google.colab.kernel.invokeFunction(\n",
              "            'suggestCharts', [key], {});\n",
              "      } catch (error) {\n",
              "        console.error('Error during call to suggestCharts:', error);\n",
              "      }\n",
              "      quickchartButtonEl.classList.remove('colab-df-spinner');\n",
              "      quickchartButtonEl.classList.add('colab-df-quickchart-complete');\n",
              "    }\n",
              "    (() => {\n",
              "      let quickchartButtonEl =\n",
              "        document.querySelector('#df-aba568ad-0df4-470f-8fe4-71535bf96b79 button');\n",
              "      quickchartButtonEl.style.display =\n",
              "        google.colab.kernel.accessAllowed ? 'block' : 'none';\n",
              "    })();\n",
              "  </script>\n",
              "</div>\n",
              "\n",
              "    </div>\n",
              "  </div>\n"
            ]
          },
          "metadata": {},
          "execution_count": 5
        }
      ]
    },
    {
      "cell_type": "markdown",
      "source": [
        "#### Section 1.2 Calculation of MSE\n",
        "\n",
        "Lets use the error metric, mean square error and implement the loss function here. We use the mean square error here because the maths will be much easier."
      ],
      "metadata": {
        "id": "oEEbe9i9Ny3F"
      }
    },
    {
      "cell_type": "markdown",
      "source": [
        "The error function (mean squre error) is\n",
        "\n",
        "$E = \\frac{1}{n}  \\sum\\limits_{i=0}^{n} (y_i - \\hat{y}_i)^2$\n",
        "\n",
        "where $\\hat{y}_i$ is the predicted value of $y$ at point $i$. We can write this as:\n",
        "\n",
        "$E = \\frac{1}{n}  \\sum\\limits_{i=0}^{n} (y_i - (m * x_i + c) )^2$"
      ],
      "metadata": {
        "id": "dtLKtCyJXwrE"
      }
    },
    {
      "cell_type": "markdown",
      "source": [
        "From the formulas above, define a method known as mse (mean square error). It should take parameters, m, c and the dataframe df. It should return the loss, or the mse."
      ],
      "metadata": {
        "id": "LGEJwk0msdP9"
      }
    },
    {
      "cell_type": "code",
      "source": [],
      "metadata": {
        "id": "8z1YYlTYGTLb"
      },
      "execution_count": null,
      "outputs": []
    },
    {
      "cell_type": "markdown",
      "source": [
        "#### Section 1.3 Calculation of Gradient Descent"
      ],
      "metadata": {
        "id": "AckEXaKftA0V"
      }
    },
    {
      "cell_type": "markdown",
      "source": [
        "Recall that in the lectures, the rules that we wish to learn are the values of $m$ and $c$. In this context, we will have to tweak the values of $m$ and $c$. However we can only change these values by finding out the gradient which increases the error $E$ the most, and then by going against it to reduce the error.\n",
        "\n",
        "Mathematically, we will need to calculate the partial derivatives of $E$ with respect to $m$, and $E$ with respect to $c$. After we calculate these partial derivatives, we will reduce the values of $m$ and $c$ by these partial derivatives multiplied by a learning rate $L$.\n",
        "\n",
        "This learning rate $L$ is defined as how fast we wish the rules to learn."
      ],
      "metadata": {
        "id": "bAbf7hKpcFQY"
      }
    },
    {
      "cell_type": "markdown",
      "source": [
        "Let's calculate the partial derivatives here. $\\frac{\\partial E}{\\partial m}$ is calculated here:\n",
        "\n",
        "$\\frac{\\partial E}{\\partial m} = \\frac{1}{n} \\sum\\limits_{i=0}^{n} 2 * (y_i - (m * x_i + c) ) * (- x_i) $\n",
        "\n",
        "$\\frac{\\partial E}{\\partial m} = -2 * \\frac{1}{n} \\sum\\limits_{i=0}^{n} x_i * (y_i - (m * x_i + c))$"
      ],
      "metadata": {
        "id": "2xsK6hL1dEca"
      }
    },
    {
      "cell_type": "markdown",
      "source": [
        "$\\frac{\\partial E}{\\partial c}$ is calculated here:\n",
        "\n",
        "$\\frac{\\partial E}{\\partial c} = \\frac{1}{n} \\sum\\limits_{i=0}^{n} 2 * (y_i - (m * x_i + c) ) * (-1) $\n",
        "\n",
        "$\\frac{\\partial E}{\\partial c} = -2 * \\frac{1}{n} \\sum\\limits_{i=0}^{n} (y_i - (m * x_i + c))$"
      ],
      "metadata": {
        "id": "Gra3Q-Xah4Xn"
      }
    },
    {
      "cell_type": "markdown",
      "source": [
        "Here we are going to write the gradient descent function. It would take the form of the following:\n",
        "\n",
        "\n",
        "\n",
        "```\n",
        "def gradient_descent(m_curr, c_curr, df, L):\n",
        "  m_gradient = 0\n",
        "  c_gradient = 0\n",
        "\n",
        "  n = len(df)\n",
        "\n",
        "  for i in range(n):\n",
        "    # get the current x value of the dataframe.\n",
        "    # get the current y value of the dataframe.\n",
        "    x = # todo\n",
        "    y = # todo\n",
        "\n",
        "    # calculate the gradient based on the formula above.\n",
        "    m_gradient += # todo\n",
        "    c_gradient += # todo\n",
        "\n",
        "  # update m and c based on the gradient above and the learning rate.\n",
        "  m = # todo\n",
        "  c = # todo\n",
        "\n",
        "  return m, c\n",
        "  ```\n",
        "\n",
        "\n"
      ],
      "metadata": {
        "id": "3SQ3AiKtvMt8"
      }
    },
    {
      "cell_type": "code",
      "source": [],
      "metadata": {
        "id": "hWBwjs6qIgLc"
      },
      "execution_count": null,
      "outputs": []
    },
    {
      "cell_type": "markdown",
      "source": [
        "#### Section 1.4 Testing our implementation\n"
      ],
      "metadata": {
        "id": "Nfsq8_GXOULs"
      }
    },
    {
      "cell_type": "markdown",
      "source": [
        "Normalize the dataframe to have the values placed between 0 and 1."
      ],
      "metadata": {
        "id": "KoYb3fixHMtY"
      }
    },
    {
      "cell_type": "code",
      "source": [
        "normalized_df=(df-df.min())/(df.max()-df.min())\n",
        "\n",
        "# You can uncomment the following line if you wish to see the coefficients converge to something more interpretable. However you would need to use a much smaller learning rate, like 0.0001\n",
        "# normalized_df = df"
      ],
      "metadata": {
        "id": "T7O39n1CE36n"
      },
      "execution_count": null,
      "outputs": []
    },
    {
      "cell_type": "markdown",
      "source": [
        "Set the gradient m to 0, c to 0, L to 0.01 and epochs to 1000."
      ],
      "metadata": {
        "id": "aoxsfISNHdHS"
      }
    },
    {
      "cell_type": "code",
      "source": [],
      "metadata": {
        "id": "3XFr-RvgJXv0"
      },
      "execution_count": null,
      "outputs": []
    },
    {
      "cell_type": "markdown",
      "source": [
        "Write a for loop to run gradient descent by the number of epochs."
      ],
      "metadata": {
        "id": "9We5XmYqv_XP"
      }
    },
    {
      "cell_type": "code",
      "source": [],
      "metadata": {
        "colab": {
          "base_uri": "https://localhost:8080/"
        },
        "id": "i0l8km8XJbW2",
        "outputId": "a2069063-12aa-4b69-e693-0eb2bf018ad1"
      },
      "execution_count": null,
      "outputs": [
        {
          "output_type": "stream",
          "name": "stdout",
          "text": [
            "Epoch:0 0.32994971644612475\n",
            "Epoch:50 0.05850663892713799\n",
            "Epoch:100 0.03333092253306617\n",
            "Epoch:150 0.027883852250483447\n",
            "Epoch:200 0.02444964910165814\n",
            "Epoch:250 0.02158365273652946\n",
            "Epoch:300 0.019117122398739188\n",
            "Epoch:350 0.01698836053547054\n",
            "Epoch:400 0.01515064269125556\n",
            "Epoch:450 0.013564140745556284\n",
            "Epoch:500 0.012194510651009335\n",
            "Epoch:550 0.011012106208772363\n",
            "Epoch:600 0.009991334035122831\n",
            "Epoch:650 0.009110099328225024\n",
            "Epoch:700 0.008349327601883953\n",
            "Epoch:750 0.007692551813235509\n",
            "Epoch:800 0.0071255559304759745\n",
            "Epoch:850 0.006636067224249645\n",
            "Epoch:900 0.006213490622181534\n",
            "Epoch:950 0.00584867937660224\n",
            "0.7111130819656366 0.16492308923920096\n"
          ]
        }
      ]
    },
    {
      "cell_type": "markdown",
      "source": [
        "Plot the scatter plot of x and y points, as well as the regression line."
      ],
      "metadata": {
        "id": "GpJiSnhOwH-K"
      }
    },
    {
      "cell_type": "code",
      "source": [
        "plt.scatter(normalized_df.x, normalized_df.y)\n",
        "plt.plot(list(np.arange(0, 1.1,0.1)), [m * x + c for x in np.arange(0, 1.1,0.1)], color=\"red\")"
      ],
      "metadata": {
        "colab": {
          "base_uri": "https://localhost:8080/",
          "height": 447
        },
        "id": "we0h2ouGJm2O",
        "outputId": "85a5c0fa-ab40-4bc8-c4f1-14c4b70189d2"
      },
      "execution_count": null,
      "outputs": [
        {
          "output_type": "execute_result",
          "data": {
            "text/plain": [
              "[<matplotlib.lines.Line2D at 0x7acd91ff75b0>]"
            ]
          },
          "metadata": {},
          "execution_count": 87
        },
        {
          "output_type": "display_data",
          "data": {
            "text/plain": [
              "<Figure size 640x480 with 1 Axes>"
            ],
            "image/png": "[encoded data removed]"
          },
          "metadata": {}
        }
      ]
    },
    {
      "cell_type": "markdown",
      "source": [
        "#### Section 1.5 Plotting the loss.\n"
      ],
      "metadata": {
        "id": "ZbiL4yTyH3Wj"
      }
    },
    {
      "cell_type": "markdown",
      "source": [
        "Calculate the mse per epoch save it as a list tuple. Thereafter plot out the loss with the y axis as the loss and x axis as the iteration."
      ],
      "metadata": {
        "id": "G5YbA9yvfnAA"
      }
    },
    {
      "cell_type": "code",
      "source": [
        "m = 0\n",
        "c = 0\n",
        "L = 0.01\n",
        "epochs = 1000\n",
        "\n",
        "temp = []\n",
        "for i in range(epochs):\n",
        "  temp.append((i, mse(m, c, normalized_df)))\n",
        "  m, c = gradient_descent(m, c, normalized_df, L)"
      ],
      "metadata": {
        "colab": {
          "base_uri": "https://localhost:8080/"
        },
        "id": "KFDBxIN0_bBt",
        "outputId": "38b942cc-6461-4fe9-bb55-f57b91cf5971"
      },
      "execution_count": null,
      "outputs": [
        {
          "output_type": "stream",
          "name": "stdout",
          "text": [
            "0.7111130819656366 0.16492308923920096\n",
            "[(0, 0.32994971644612475), (1, 0.31546535919699054), (2, 0.30169676280843816), (3, 0.28860831675471854), (4, 0.27616618291531014), (5, 0.2643382073567718), (6, 0.2530938365054926), (7, 0.2424040374927944), (8, 0.23224122246471127), (9, 0.22257917665911356), (10, 0.21339299006266343), (11, 0.20465899246942162), (12, 0.19635469177179488), (13, 0.1884587153229399), (14, 0.180950754217748), (15, 0.17381151034714237), (16, 0.16702264608765327), (17, 0.16056673649510134), (18, 0.15442722387775695), (19, 0.1485883746305356), (20, 0.14303523821769457), (21, 0.1377536081970916), (22, 0.13272998518439003), (23, 0.12795154166065384), (24, 0.12340608853158087), (25, 0.1190820433511899), (26, 0.11496840012711539), (27, 0.11105470062878982), (28, 0.10733100712370874), (29, 0.1037878764706987), (30, 0.10041633550264628), (31, 0.09720785763450626), (32, 0.0941543406356045), (33, 0.09124808550828384), (34, 0.08848177641782647), (35, 0.08584846162132888), (36, 0.08334153534580663), (37, 0.08095472056828369), (38, 0.07868205265297143), (39, 0.07651786380287741), (40, 0.07445676828530691), (41, 0.07249364839273788), (42, 0.07062364110246798), (43, 0.06884212540025365), (44, 0.06714471023489103), (45, 0.06552722307233644), (46, 0.0639856990195239), (47, 0.06251637048952523), (48, 0.06111565738110757), (49, 0.059780157747085304), (50, 0.05850663892713799), (51, 0.057292029121975625), (52, 0.05613340938688455), (53, 0.05502800602377967), (54, 0.05397318335192842), (55, 0.05296643683849847), (56, 0.05200538657101982), (57, 0.05108777105474289), (58, 0.050211441318721725), (59, 0.049374355315255795), (60, 0.048574572598089547), (61, 0.04781024926549406), (62, 0.04707963315504804), (63, 0.04638105927758909), (64, 0.04571294547843178), (65, 0.04507378831454045), (66, 0.04446215913690784), (67, 0.043876700367926035), (68, 0.04331612196404436), (69, 0.042779198054491534), (70, 0.042264763747299344), (71, 0.04177171209430014), (72, 0.04129899120718607), (73, 0.04084560151711075), (74, 0.0404105931706891), (75, 0.039993063555606265), (76, 0.03959215494938467), (77, 0.039207052285179005), (78, 0.03883698102877441), (79, 0.038481205161253286), (80, 0.038139025262070414), (81, 0.0378097766875396), (82, 0.03749282783998253), (83, 0.037187578523027134), (84, 0.036893458378767924), (85, 0.0366099254027134), (86, 0.03633646453264904), (87, 0.03607258630773681), (88, 0.03581782559435524), (89, 0.03557174037535819), (90, 0.03533391059959588), (91, 0.035103937088698536), (92, 0.03488144049827259), (93, 0.03466606033080143), (94, 0.03445745399767653), (95, 0.03425529592791431), (96, 0.03405927672123465), (97, 0.03386910234329299), (98, 0.03368449336096815), (99, 0.03350518421571192), (100, 0.03333092253306617), (101, 0.033161468466547134), (102, 0.03299659407418647), (103, 0.03283608272610335), (104, 0.0326797285415637), (105, 0.03252733585405813), (106, 0.032378718703004544), (107, 0.032233700350750016), (108, 0.03209211282361281), (109, 0.03195379647576771), (110, 0.03181859957483823), (111, 0.03168637790811458), (112, 0.03155699440837143), (113, 0.0314303187983095), (114, 0.03130622725269411), (115, 0.03118460207731009), (116, 0.031065331403895603), (117, 0.030948308900259947), (118, 0.030833433494829567), (119, 0.030720609114903676), (120, 0.030609744437937833), (121, 0.030500752655206433), (122, 0.030393551247228142), (123, 0.030288061770369204), (124, 0.030184209654067446), (125, 0.03008192400814918), (126, 0.02998113743973609), (127, 0.02988178587926514), (128, 0.029783808415167545), (129, 0.029687147136776285), (130, 0.02959174698505212), (131, 0.029497555610739287), (132, 0.029404523239581114), (133, 0.02931260254424365), (134, 0.029221748522614197), (135, 0.02913191838215683), (136, 0.029043071430023663), (137, 0.02895516896863551), (138, 0.02886817419645934), (139, 0.028782052113724328), (140, 0.028696769432830328), (141, 0.0286122944932153), (142, 0.028528597180460018), (143, 0.028445648849418647), (144, 0.028363422251175323), (145, 0.028281891463636008), (146, 0.028201031825574728), (147, 0.02812081987396237), (148, 0.028041233284414404), (149, 0.027962250814602695), (150, 0.027883852250483447), (151, 0.02780601835520142), (152, 0.027728730820536972), (153, 0.02765197222076967), (154, 0.027575725968837794), (155, 0.02749997627467991), (156, 0.027424708105649412), (157, 0.02734990714889934), (158, 0.02727555977563906), (159, 0.02720165300716977), (160, 0.027128174482610318), (161, 0.02705511242822908), (162, 0.026982455628302246), (163, 0.026910193397422056), (164, 0.02683831555418334), (165, 0.026766812396179424), (166, 0.02669567467624231), (167, 0.02662489357986523), (168, 0.026554460703748874), (169, 0.02648436803541482), (170, 0.026414607933833923), (171, 0.026345173111018198), (172, 0.026276056614529014), (173, 0.026207251810855592), (174, 0.026138752369620457), (175, 0.02607055224857093), (176, 0.026002645679317416), (177, 0.025935027153781195), (178, 0.025867691411316653), (179, 0.02580063342647411), (180, 0.025733848397371663), (181, 0.025667331734645412), (182, 0.0256010790509496), (183, 0.025535086150978898), (184, 0.025469349021987404), (185, 0.02540386382477904), (186, 0.025338626885146303), (187, 0.025273634685734837), (188, 0.02520888385831284), (189, 0.025144371176424776), (190, 0.025080093548410783), (191, 0.025016048010773152), (192, 0.024952231721872775), (193, 0.02488864195593913), (194, 0.02482527609737817), (195, 0.02476213163536338), (196, 0.02469920615869574), (197, 0.024636497350919325), (198, 0.02457400298567987), (199, 0.024511720922314066), (200, 0.02444964910165814), (201, 0.02438778554206497), (202, 0.02432612833561912), (203, 0.024264675644540015), (204, 0.024203425697764094), (205, 0.024142376787696665), (206, 0.024081527267125383), (207, 0.024020875546287002), (208, 0.023960420090080026), (209, 0.023900159415415883), (210, 0.023840092088701546), (211, 0.023780216723447517), (212, 0.023720531977994463), (213, 0.023661036553352846), (214, 0.023601729191149917), (215, 0.0235426086716786), (216, 0.02348367381204342), (217, 0.02342492346439832), (218, 0.023366356514272154), (219, 0.023307971878977228), (220, 0.023249768506096884), (221, 0.023191745372048066), (222, 0.023133901480715476), (223, 0.023076235862153127), (224, 0.023018747571350726), (225, 0.022961435687060952), (226, 0.02290429931068497), (227, 0.022847337565213448), (228, 0.022790549594219698), (229, 0.022733934560903047), (230, 0.02267749164717948), (231, 0.022621220052817338), (232, 0.022565118994615933), (233, 0.022509187705624732), (234, 0.022453425434401316), (235, 0.02239783144430598), (236, 0.022342405012831336), (237, 0.022287145430964984), (238, 0.022232052002583876), (239, 0.022177124043878414), (240, 0.02212236088280523), (241, 0.02206776185856682), (242, 0.022013326321117077), (243, 0.021959053630691106), (244, 0.021904943157358234), (245, 0.021850994280597256), (246, 0.021797206388892418), (247, 0.02174357887934943), (248, 0.02169011115733044), (249, 0.021636802636106872), (250, 0.02158365273652946), (251, 0.021530660886714466), (252, 0.021477826521745316), (253, 0.021425149083389012), (254, 0.02137262801982627), (255, 0.02132026278539513), (256, 0.02126805284034697), (257, 0.021215997650614576), (258, 0.02116409668759153), (259, 0.021112349427922436), (260, 0.021060755353303366), (261, 0.02100931395029203), (262, 0.020958024710127355), (263, 0.020906887128557646), (264, 0.020855900705677305), (265, 0.02080506494577143), (266, 0.02075437935716794), (267, 0.020703843452096957), (268, 0.020653456746556883), (269, 0.020603218760187135), (270, 0.020553129016146903), (271, 0.020503187040999807), (272, 0.02045339236460416), (273, 0.02040374452000844), (274, 0.020354243043351882), (275, 0.02030488747376972), (276, 0.02025567735330312), (277, 0.020206612226813345), (278, 0.020157691641899938), (279, 0.02010891514882299), (280, 0.020060282300428955), (281, 0.020011792652080064), (282, 0.01996344576158702), (283, 0.019915241189144936), (284, 0.019867178497272247), (285, 0.019819257250752537), (286, 0.019771477016579025), (287, 0.019723837363901726), (288, 0.01967633786397701), (289, 0.01962897809011954), (290, 0.019581757617656428), (291, 0.01953467602388349), (292, 0.019487732888023544), (293, 0.0194409277911866), (294, 0.019394260316331846), (295, 0.019347730048231416), (296, 0.019301336573435742), (297, 0.019255079480240488), (298, 0.019208958358654982), (299, 0.019162972800372057), (300, 0.019117122398739188), (301, 0.01907140674873098), (302, 0.019025825446922745), (303, 0.018980378091465397), (304, 0.018935064282061275), (305, 0.018889883619941133), (306, 0.018844835707842046), (307, 0.018799920149986278), (308, 0.01875513655206103), (309, 0.01871048452119909), (310, 0.01866596366596021), (311, 0.01862157359631332), (312, 0.018577313923619422), (313, 0.01853318426061524), (314, 0.018489184221397444), (315, 0.01844531342140758), (316, 0.018401571477417583), (317, 0.018357958007515808), (318, 0.01831447263109364), (319, 0.01827111496883263), (320, 0.018227884642692097), (321, 0.018184781275897212), (322, 0.018141804492927464), (323, 0.018098953919505677), (324, 0.018056229182587268), (325, 0.018013629910349983), (326, 0.01797115573218401), (327, 0.017928806278682364), (328, 0.017886581181631642), (329, 0.0178444800740031), (330, 0.01780250258994399), (331, 0.017760648364769215), (332, 0.017718917034953235), (333, 0.017677308238122233), (334, 0.017635821613046512), (335, 0.017594456799633146), (336, 0.01755321343891886), (337, 0.01751209117306307), (338, 0.017471089645341154), (339, 0.01743020850013794), (340, 0.017389447382941327), (341, 0.017348805940336134), (342, 0.01730828381999803), (343, 0.01726788067068772), (344, 0.0172275961422452), (345, 0.017187429885584207), (346, 0.01714738155268679), (347, 0.017107450796597975), (348, 0.017067637271420626), (349, 0.017027940632310345), (350, 0.01698836053547054), (351, 0.01694889663814759), (352, 0.016909548598626086), (353, 0.01687031607622418), (354, 0.016831198731289073), (355, 0.01679219622519251), (356, 0.016753308220326436), (357, 0.01671453438009865), (358, 0.016675874368928683), (359, 0.016637327852243543), (360, 0.0165988944964737), (361, 0.016560573969049072), (362, 0.016522365938395102), (363, 0.016484270073928827), (364, 0.016446286046055088), (365, 0.016408413526162773), (366, 0.016370652186621103), (367, 0.016333001700775954), (368, 0.016295461742946275), (369, 0.016258031988420508), (370, 0.016220712113453058), (371, 0.016183501795260864), (372, 0.016146400712019934), (373, 0.01610940854286198), (374, 0.016072524967871017), (375, 0.016035749668080107), (376, 0.015999082325468057), (377, 0.01596252262295615), (378, 0.01592607024440499), (379, 0.015889724874611263), (380, 0.015853486199304597), (381, 0.015817353905144504), (382, 0.01578132767971717), (383, 0.015745407211532517), (384, 0.015709592190021077), (385, 0.015673882305531003), (386, 0.015638277249325098), (387, 0.015602776713577814), (388, 0.015567380391372334), (389, 0.015532087976697653), (390, 0.015496899164445653), (391, 0.015461813650408239), (392, 0.015426831131274495), (393, 0.015391951304627812), (394, 0.015357173868943075), (395, 0.015322498523583871), (396, 0.015287924968799708), (397, 0.015253452905723225), (398, 0.01521908203636743), (399, 0.01518481206362301), (400, 0.01515064269125556), (401, 0.015116573623902913), (402, 0.015082604567072423), (403, 0.01504873522713829), (404, 0.015014965311338935), (405, 0.014981294527774289), (406, 0.014947722585403214), (407, 0.014914249194040836), (408, 0.014880874064355986), (409, 0.014847596907868545), (410, 0.014814417436946897), (411, 0.014781335364805337), (412, 0.014748350405501513), (413, 0.01471546227393391), (414, 0.014682670685839243), (415, 0.014649975357789993), (416, 0.014617376007191839), (417, 0.014584872352281213), (418, 0.014552464112122725), (419, 0.014520151006606731), (420, 0.014487932756446865), (421, 0.014455809083177527), (422, 0.014423779709151456), (423, 0.014391844357537285), (424, 0.014360002752317087), (425, 0.014328254618283971), (426, 0.014296599681039628), (427, 0.014265037666991965), (428, 0.014233568303352656), (429, 0.014202191318134787), (430, 0.014170906440150456), (431, 0.014139713399008397), (432, 0.014108611925111609), (433, 0.014077601749655035), (434, 0.014046682604623151), (435, 0.014015854222787661), (436, 0.01398511633770517), (437, 0.013954468683714822), (438, 0.013923910995936022), (439, 0.013893443010266104), (440, 0.01386306446337804), (441, 0.013832775092718123), (442, 0.013802574636503704), (443, 0.01377246283372091), (444, 0.013742439424122361), (445, 0.013712504148224893), (446, 0.013682656747307344), (447, 0.013652896963408281), (448, 0.013623224539323719), (449, 0.01359363921860495), (450, 0.013564140745556284), (451, 0.013534728865232815), (452, 0.013505403323438239), (453, 0.013476163866722613), (454, 0.013447010242380177), (455, 0.013417942198447158), (456, 0.01338895948369958), (457, 0.013360061847651072), (458, 0.013331249040550719), (459, 0.013302520813380897), (460, 0.013273876917855082), (461, 0.013245317106415714), (462, 0.013216841132232073), (463, 0.013188448749198101), (464, 0.01316013971193031), (465, 0.013131913775765613), (466, 0.013103770696759245), (467, 0.013075710231682611), (468, 0.013047732138021205), (469, 0.013019836173972515), (470, 0.012992022098443905), (471, 0.012964289671050542), (472, 0.012936638652113317), (473, 0.012909068802656744), (474, 0.012881579884406937), (475, 0.012854171659789516), (476, 0.01282684389192755), (477, 0.012799596344639522), (478, 0.012772428782437258), (479, 0.012745340970523928), (480, 0.012718332674791989), (481, 0.012691403661821157), (482, 0.012664553698876403), (483, 0.012637782553905923), (484, 0.012611089995539141), (485, 0.012584475793084715), (486, 0.01255793971652851), (487, 0.012531481536531639), (488, 0.012505101024428478), (489, 0.012478797952224665), (490, 0.012452572092595154), (491, 0.012426423218882226), (492, 0.012400351105093554), (493, 0.012374355525900224), (494, 0.012348436256634808), (495, 0.012322593073289383), (496, 0.012296825752513653), (497, 0.012271134071612979), (498, 0.012245517808546443), (499, 0.012219976741924954), (500, 0.012194510651009335), (501, 0.012169119315708387), (502, 0.012143802516577007), (503, 0.012118560034814301), (504, 0.012093391652261663), (505, 0.0120682971514009), (506, 0.012043276315352378), (507, 0.012018328927873089), (508, 0.01199345477335486), (509, 0.011968653636822407), (510, 0.01194392530393153), (511, 0.01191926956096725), (512, 0.011894686194841957), (513, 0.011870174993093556), (514, 0.011845735743883647), (515, 0.011821368235995682), (516, 0.01179707225883318), (517, 0.011772847602417811), (518, 0.011748694057387703), (519, 0.011724611414995539), (520, 0.011700599467106785), (521, 0.0116766580061979), (522, 0.011652786825354533), (523, 0.011628985718269733), (524, 0.011605254479242155), (525, 0.011581592903174322), (526, 0.011558000785570793), (527, 0.01153447792253645), (528, 0.01151102411077469), (529, 0.011487639147585717), (530, 0.011464322830864744), (531, 0.011441074959100274), (532, 0.01141789533137234), (533, 0.011394783747350791), (534, 0.011371740007293527), (535, 0.011348763912044823), (536, 0.011325855263033556), (537, 0.011303013862271505), (538, 0.011280239512351676), (539, 0.011257532016446525), (540, 0.011234891178306318), (541, 0.011212316802257418), (542, 0.011189808693200581), (543, 0.011167366656609277), (544, 0.011144990498528013), (545, 0.011122680025570647), (546, 0.01110043504491873), (547, 0.011078255364319835), (548, 0.011056140792085879), (549, 0.011034091137091499), (550, 0.011012106208772363), (551, 0.010990185817123554), (552, 0.010968329772697906), (553, 0.010946537886604385), (554, 0.010924809970506431), (555, 0.010903145836620361), (556, 0.010881545297713737), (557, 0.010860008167103717), (558, 0.010838534258655486), (559, 0.010817123386780625), (560, 0.010795775366435502), (561, 0.0107744900131197), (562, 0.010753267142874376), (563, 0.01073210657228072), (564, 0.010711008118458334), (565, 0.010689971599063673), (566, 0.010668996832288455), (567, 0.010648083636858112), (568, 0.010627231832030183), (569, 0.010606441237592796), (570, 0.010585711673863083), (571, 0.010565042961685629), (572, 0.010544434922430934), (573, 0.010523887377993873), (574, 0.010503400150792147), (575, 0.010482973063764738), (576, 0.010462605940370386), (577, 0.01044229860458609), (578, 0.010422050880905552), (579, 0.010401862594337667), (580, 0.010381733570405031), (581, 0.010361663635142395), (582, 0.010341652615095205), (583, 0.010321700337318074), (584, 0.010301806629373285), (585, 0.010281971319329343), (586, 0.01026219423575943), (587, 0.010242475207739958), (588, 0.010222814064849086), (589, 0.010203210637165243), (590, 0.01018366475526566), (591, 0.01016417625022493), (592, 0.010144744953613491), (593, 0.010125370697496229), (594, 0.010106053314431002), (595, 0.010086792637467184), (596, 0.01006758850014423), (597, 0.010048440736490255), (598, 0.010029349181020573), (599, 0.010010313668736288), (600, 0.009991334035122831), (601, 0.009972410116148597), (602, 0.009953541748263479), (603, 0.009934728768397474), (604, 0.009915971013959272), (605, 0.00989726832283485), (606, 0.009878620533386052), (607, 0.009860027484449238), (608, 0.00984148901533385), (609, 0.009823004965821043), (610, 0.009804575176162275), (611, 0.00978619948707797), (612, 0.009767877739756096), (613, 0.00974960977585083), (614, 0.009731395437481163), (615, 0.00971323456722954), (616, 0.009695127008140524), (617, 0.009677072603719397), (618, 0.009659071197930849), (619, 0.009641122635197598), (620, 0.009623226760399067), (621, 0.009605383418870034), (622, 0.00958759245639929), (623, 0.009569853719228319), (624, 0.00955216705404996), (625, 0.009534532308007083), (626, 0.009516949328691272), (627, 0.009499417964141506), (628, 0.00948193806284284), (629, 0.009464509473725105), (630, 0.009447132046161601), (631, 0.009429805629967787), (632, 0.009412530075399987), (633, 0.009395305233154105), (634, 0.009378130954364303), (635, 0.009361007090601784), (636, 0.009343933493873411), (637, 0.009326910016620513), (638, 0.00930993651171757), (639, 0.009293012832470944), (640, 0.009276138832617627), (641, 0.00925931436632394), (642, 0.009242539288184328), (643, 0.009225813453220058), (644, 0.009209136716877982), (645, 0.009192508935029294), (646, 0.009175929963968259), (647, 0.009159399660411021), (648, 0.0091429178814943), (649, 0.009126484484774218), (650, 0.009110099328225024), (651, 0.009093762270237886), (652, 0.009077473169619668), (653, 0.009061231885591697), (654, 0.009045038277788577), (655, 0.009028892206256927), (656, 0.009012793531454209), (657, 0.008996742114247523), (658, 0.008980737815912368), (659, 0.0089647804981315), (660, 0.008948870022993678), (661, 0.008933006252992514), (662, 0.008917189051025265), (663, 0.008901418280391647), (664, 0.008885693804792663), (665, 0.008870015488329434), (666, 0.008854383195501987), (667, 0.00883879679120813), (668, 0.00882325614074225), (669, 0.008807761109794166), (670, 0.008792311564447972), (671, 0.008776907371180854), (672, 0.008761548396861971), (673, 0.008746234508751278), (674, 0.00873096557449838), (675, 0.008715741462141428), (676, 0.008700562040105901), (677, 0.00868542717720355), (678, 0.008670336742631212), (679, 0.008655290605969706), (680, 0.008640288637182681), (681, 0.008625330706615529), (682, 0.008610416684994217), (683, 0.008595546443424213), (684, 0.008580719853389358), (685, 0.008565936786750739), (686, 0.008551197115745595), (687, 0.008536500712986214), (688, 0.008521847451458843), (689, 0.008507237204522561), (690, 0.008492669845908199), (691, 0.008478145249717267), (692, 0.008463663290420847), (693, 0.008449223842858485), (694, 0.008434826782237172), (695, 0.008420471984130201), (696, 0.008406159324476139), (697, 0.00839188867957771), (698, 0.008377659926100772), (699, 0.008363472941073225), (700, 0.008349327601883953), (701, 0.00833522378628176), (702, 0.008321161372374321), (703, 0.008307140238627124), (704, 0.008293160263862428), (705, 0.008279221327258193), (706, 0.008265323308347068), (707, 0.00825146608701533), (708, 0.008237649543501842), (709, 0.008223873558397037), (710, 0.008210138012641855), (711, 0.008196442787526749), (712, 0.008182787764690646), (713, 0.00816917282611992), (714, 0.008155597854147358), (715, 0.008142062731451167), (716, 0.00812856734105397), (717, 0.008115111566321742), (718, 0.00810169529096287), (719, 0.008088318399027093), (720, 0.008074980774904532), (721, 0.008061682303324675), (722, 0.008048422869355394), (723, 0.008035202358401933), (724, 0.008022020656205931), (725, 0.008008877648844436), (726, 0.007995773222728915), (727, 0.007982707264604275), (728, 0.007969679661547888), (729, 0.007956690300968586), (730, 0.007943739070605747), (731, 0.007930825858528263), (732, 0.007917950553133608), (733, 0.007905113043146865), (734, 0.007892313217619767), (735, 0.007879550965929728), (736, 0.007866826177778901), (737, 0.007854138743193214), (738, 0.007841488552521427), (739, 0.007828875496434174), (740, 0.007816299465923039), (741, 0.007803760352299579), (742, 0.007791258047194425), (743, 0.0077787924425563116), (744, 0.007766363430651165), (745, 0.007753970904061167), (746, 0.0077416147556838115), (747, 0.007729294878731006), (748, 0.007717011166728126), (749, 0.007704763513513107), (750, 0.007692551813235509), (751, 0.00768037596035564), (752, 0.007668235849643606), (753, 0.007656131376178407), (754, 0.007644062435347051), (755, 0.007632028922843632), (756, 0.007620030734668432), (757, 0.007608067767127021), (758, 0.007596139916829381), (759, 0.007584247080688974), (760, 0.007572389155921882), (761, 0.007560566040045903), (762, 0.00754877763087968), (763, 0.007537023826541803), (764, 0.007525304525449937), (765, 0.007513619626319936), (766, 0.007501969028164988), (767, 0.007490352630294703), (768, 0.007478770332314286), (769, 0.007467222034123643), (770, 0.007455707635916539), (771, 0.00744422703817969), (772, 0.007432780141691961), (773, 0.007421366847523464), (774, 0.007409987057034722), (775, 0.007398640671875829), (776, 0.007387327593985558), (777, 0.007376047725590552), (778, 0.007364800969204479), (779, 0.007353587227627166), (780, 0.007342406403943763), (781, 0.007331258401523937), (782, 0.007320143124020998), (783, 0.007309060475371073), (784, 0.0072980103597922955), (785, 0.00728699268178397), (786, 0.0072760073461257315), (787, 0.007265054257876746), (788, 0.007254133322374865), (789, 0.007243244445235828), (790, 0.0072323875323524415), (791, 0.007221562489893755), (792, 0.007210769224304265), (793, 0.0072000076423031), (794, 0.0071892776508832145), (795, 0.007178579157310576), (796, 0.007167912069123385), (797, 0.007157276294131252), (798, 0.007146671740414418), (799, 0.00713609831632296), (800, 0.0071255559304759745), (801, 0.007115044491760825), (802, 0.007104563909332331), (803, 0.007094114092611975), (804, 0.007083694951287154), (805, 0.007073306395310361), (806, 0.007062948334898431), (807, 0.007052620680531754), (808, 0.007042323342953505), (809, 0.0070320562331688645), (810, 0.00702181926244427), (811, 0.007011612342306636), (812, 0.0070014353845425726), (813, 0.006991288301197655), (814, 0.0069811710045756484), (815, 0.006971083407237745), (816, 0.006961025422001813), (817, 0.00695099696194164), (818, 0.00694099794038619), (819, 0.006931028270918863), (820, 0.006921087867376699), (821, 0.006911176643849708), (822, 0.006901294514680064), (823, 0.006891441394461398), (824, 0.0068816171980380526), (825, 0.006871821840504333), (826, 0.006862055237203803), (827, 0.006852317303728519), (828, 0.00684260795591832), (829, 0.006832927109860101), (830, 0.006823274681887092), (831, 0.006813650588578105), (832, 0.006804054746756848), (833, 0.006794487073491202), (834, 0.006784947486092472), (835, 0.006775435902114702), (836, 0.006765952239353977), (837, 0.006756496415847663), (838, 0.006747068349873747), (839, 0.006737667959950097), (840, 0.006728295164833777), (841, 0.006718949883520342), (842, 0.006709632035243138), (843, 0.006700341539472584), (844, 0.006691078315915512), (845, 0.00668184228451445), (846, 0.0066726333654469235), (847, 0.006663451479124799), (848, 0.006654296546193546), (849, 0.006645168487531601), (850, 0.006636067224249645), (851, 0.006626992677689949), (852, 0.006617944769425689), (853, 0.006608923421260245), (854, 0.006599928555226553), (855, 0.006590960093586423), (856, 0.006582017958829864), (857, 0.00657310207367441), (858, 0.006564212361064467), (859, 0.006555348744170627), (860, 0.00654651114638901), (861, 0.006537699491340634), (862, 0.0065289137028707), (863, 0.006520153705047964), (864, 0.0065114194221640885), (865, 0.006502710778732974), (866, 0.006494027699490103), (867, 0.006485370109391913), (868, 0.006476737933615109), (869, 0.006468131097556054), (870, 0.006459549526830115), (871, 0.006450993147270992), (872, 0.006442461884930137), (873, 0.006433955666076035), (874, 0.006425474417193634), (875, 0.006417018064983687), (876, 0.006408586536362108), (877, 0.006400179758459354), (878, 0.0063917976586197875), (879, 0.006383440164401047), (880, 0.006375107203573435), (881, 0.006366798704119281), (882, 0.006358514594232309), (883, 0.0063502548023170536), (884, 0.006342019256988205), (885, 0.006333807887069995), (886, 0.006325620621595613), (887, 0.00631745738980655), (888, 0.0063093181211520254), (889, 0.006301202745288348), (890, 0.006293111192078326), (891, 0.006285043391590658), (892, 0.006276999274099317), (893, 0.006268978770082965), (894, 0.006260981810224332), (895, 0.006253008325409647), (896, 0.006245058246728008), (897, 0.0062371315054708), (898, 0.006229228033131111), (899, 0.006221347761403123), (900, 0.006213490622181534), (901, 0.00620565654756096), (902, 0.006197845469835358), (903, 0.0061900573214974455), (904, 0.006182292035238076), (905, 0.006174549543945721), (906, 0.0061668297807058415), (907, 0.006159132678800332), (908, 0.006151458171706935), (909, 0.006143806193098667), (910, 0.0061361766768432465), (911, 0.006128569557002533), (912, 0.006120984767831936), (913, 0.006113422243779861), (914, 0.006105881919487144), (915, 0.006098363729786478), (916, 0.0060908676097018565), (917, 0.006083393494448007), (918, 0.006075941319429837), (919, 0.006068511020241873), (920, 0.006061102532667698), (921, 0.006053715792679413), (922, 0.0060463507364370605), (923, 0.006039007300288092), (924, 0.006031685420766811), (925, 0.006024385034593818), (926, 0.006017106078675478), (927, 0.006009848490103366), (928, 0.006002612206153713), (929, 0.005995397164286894), (930, 0.005988203302146853), (931, 0.005981030557560591), (932, 0.0059738788685376075), (933, 0.0059667481732693815), (934, 0.005959638410128832), (935, 0.0059525495176697765), (936, 0.005945481434626414), (937, 0.005938434099912792), (938, 0.005931407452622265), (939, 0.005924401432026985), (940, 0.00591741597757737), (941, 0.005910451028901583), (942, 0.005903506525805009), (943, 0.005896582408269728), (944, 0.005889678616454005), (945, 0.005882795090691775), (946, 0.005875931771492109), (947, 0.005869088599538729), (948, 0.005862265515689476), (949, 0.005855462460975794), (950, 0.00584867937660224), (951, 0.005841916203945957), (952, 0.005835172884556179), (953, 0.005828449360153723), (954, 0.005821745572630477), (955, 0.00581506146404891), (956, 0.005808396976641575), (957, 0.00580175205281059), (958, 0.005795126635127148), (959, 0.005788520666331037), (960, 0.0057819340893301265), (961, 0.00577536684719987), (962, 0.005768818883182838), (963, 0.005762290140688202), (964, 0.005755780563291262), (965, 0.005749290094732946), (966, 0.005742818678919341), (967, 0.005736366259921186), (968, 0.0057299327819734045), (969, 0.005723518189474618), (970, 0.005717122426986667), (971, 0.005710745439234134), (972, 0.005704387171103848), (973, 0.005698047567644438), (974, 0.005691726574065835), (975, 0.005685424135738808), (976, 0.005679140198194491), (977, 0.005672874707123906), (978, 0.005666627608377511), (979, 0.005660398847964702), (980, 0.005654188372053376), (981, 0.005647996126969454), (982, 0.005641822059196412), (983, 0.005635666115374821), (984, 0.005629528242301907), (985, 0.005623408386931047), (986, 0.005617306496371354), (987, 0.0056112225178872), (988, 0.005605156398897745), (989, 0.005599108086976523), (990, 0.005593077529850953), (991, 0.005587064675401905), (992, 0.005581069471663242), (993, 0.005575091866821368), (994, 0.0055691318092148), (995, 0.005563189247333692), (996, 0.005557264129819414), (997, 0.005551356405464094), (998, 0.005545466023210187), (999, 0.005539592932150021)]\n"
          ]
        }
      ]
    },
    {
      "cell_type": "markdown",
      "source": [
        "Plot out the loss through a scatter plot."
      ],
      "metadata": {
        "id": "RIYFDod7f4Fj"
      }
    },
    {
      "cell_type": "code",
      "source": [
        "plt.scatter(*zip(*temp))"
      ],
      "metadata": {
        "colab": {
          "base_uri": "https://localhost:8080/",
          "height": 447
        },
        "id": "FjcUVMIk-I2V",
        "outputId": "7205a8c2-d7de-400d-d5bb-805b51966650"
      },
      "execution_count": null,
      "outputs": [
        {
          "output_type": "execute_result",
          "data": {
            "text/plain": [
              "<matplotlib.collections.PathCollection at 0x7acd91ee3850>"
            ]
          },
          "metadata": {},
          "execution_count": 90
        },
        {
          "output_type": "display_data",
          "data": {
            "text/plain": [
              "<Figure size 640x480 with 1 Axes>"
            ],
            "image/png": "[encoded data removed]"
          },
          "metadata": {}
        }
      ]
    },
    {
      "cell_type": "markdown",
      "source": [
        "### Section 1.6 Extending to Multiple Linear Regression"
      ],
      "metadata": {
        "id": "BveHR5YOpqCm"
      }
    },
    {
      "cell_type": "markdown",
      "source": [
        "In the sections above, the work was relatively simple as it was a simple linear regression. We will extend it to multiple linear regression in the following section. The main task is to carry out proper vectorization of the variables."
      ],
      "metadata": {
        "id": "QmopXfqYlHO5"
      }
    },
    {
      "cell_type": "markdown",
      "source": [
        "Let's just try to vectorize the function properly. Let's look again at the function for gradient descent:\n",
        "\n",
        "```\n",
        "def gradient_descent(m_curr, c_curr, df, L):\n",
        "  m_gradient = 0\n",
        "  c_gradient = 0\n",
        "\n",
        "  n = len(df)\n",
        "\n",
        "  for i in range(n):\n",
        "    x = df.iloc[i].x\n",
        "    y = df.iloc[i].y\n",
        "\n",
        "    m_gradient += - (2/n) * x * (y - (m_curr * x + c_curr))\n",
        "    c_gradient += - (2/n) * (y - (m_curr * x + c_curr))\n",
        "\n",
        "  m = m_curr - m_gradient * L\n",
        "  c = c_curr - c_gradient * L\n",
        "\n",
        "  return m, c\n",
        "```\n",
        "\n",
        "There seems to be only two portions which require you do carry out any vectorization. They are in the for loop\n",
        "\n",
        "```\n",
        "  for i in range(n):\n",
        "    x = df.iloc[i].x\n",
        "    y = df.iloc[i].y\n",
        "```\n",
        "\n",
        "and the lines:\n",
        "\n",
        "```\n",
        "    m_gradient += - (2/n) * x * (y - (m_curr * x + c_curr))\n",
        "    c_gradient += - (2/n) * (y - (m_curr * x + c_curr))\n",
        "```\n",
        "\n",
        "\n",
        "\n",
        "\n",
        "\n"
      ],
      "metadata": {
        "id": "BE-pv9CRXCzD"
      }
    },
    {
      "cell_type": "markdown",
      "source": [
        "Such items are always very tricky to vectorize. I find that one of the easier ways is to determine the sizes of the matrix and then use these sizes to \"work backwards\". However if you know of an easier way do let me know! Let's assume the following matrix sizes:\n",
        "*   $c$: 1x1 vector.\n",
        "*   $m$: fx1 matrix, where $f$ is the number of features (independent variables)\n",
        "*   $x$: n x f matrix, where $f$ is the number of features (independent variables)\n",
        "*   $y$: n x 1 vector."
      ],
      "metadata": {
        "id": "5SzDvqf9e0hH"
      }
    },
    {
      "cell_type": "markdown",
      "source": [
        "Let's look at the first term,\n",
        "\n",
        "$(y - (x * m_{curr} + c_{curr}))$\n",
        "\n",
        "This nicely reduces to\n",
        "\n",
        "loss = $(y - (x.dot(m_{curr}) + c_{curr}))$\n",
        "\n",
        "Which the output is also n x 1\n"
      ],
      "metadata": {
        "id": "AgL_1Du0grgr"
      }
    },
    {
      "cell_type": "markdown",
      "source": [
        "Let's look at the second term as it is easier.\n",
        "\n",
        "```\n",
        "    c_gradient += - (2/n) * (y - (m_curr * x + c_curr))\n",
        "\n",
        "    # which reduces to:\n",
        "\n",
        "    c_gradient += - (2/n) * (loss))\n",
        "\n",
        "```\n",
        "\n",
        "c_gradient is of size 1 x 1 while the output (loss) is n x 1. Hence all we need to do is to sum up all the values to get a 1x1 matrix. We can hence remove the $for$ loop to get just\n",
        "\n",
        "```\n",
        "    c_gradient = - (1/n) * np.sum(loss)\n",
        "```\n",
        "\n"
      ],
      "metadata": {
        "id": "LLIpQ5lth9ax"
      }
    },
    {
      "cell_type": "markdown",
      "source": [
        "Now let's look at the first term:\n",
        "\n",
        "```\n",
        "    m_gradient += - (2/n) * x * (y - (m_curr * x + c_curr))\n",
        "\n",
        "    # which reduces to:\n",
        "\n",
        "    m_gradient += - (2/n) * x * (loss)\n",
        "\n",
        "```\n",
        "\n",
        "$x$: n x f sample while loss is n x 1. For the math to work out, we need to carry out a transpose of $x$ so that we get a f x n matrix dot product a n x 1 matrix. This gives us a f x 1 matrix, which nicely gives us the gradient descent value for every gradient in the feature.\n",
        "\n",
        "```\n",
        "    m_gradient = - (2/n) * x.T.dot(loss)\n",
        "```\n",
        "\n",
        "This gives us the vectorized form:"
      ],
      "metadata": {
        "id": "Og1Bozmwituz"
      }
    },
    {
      "cell_type": "code",
      "source": [
        "def gradient_descent(m_curr, c_curr, df, L):\n",
        "  m_gradient = 0\n",
        "  c_gradient = 0\n",
        "\n",
        "  x = np.array(df.x)\n",
        "  y = df.y\n",
        "\n",
        "  y_pred = (x.dot(m_curr) + c_curr)\n",
        "  loss = y - y_pred\n",
        "\n",
        "  n = len(y)\n",
        "\n",
        "  m_gradient = -(2/n) * x.T.dot(loss)\n",
        "  c_gradient = -(2/n) * np.sum(loss)\n",
        "\n",
        "  m = m_curr - m_gradient * L\n",
        "  c = c_curr - c_gradient * L\n",
        "\n",
        "  return m, c"
      ],
      "metadata": {
        "id": "mcC1_16pXBpn"
      },
      "execution_count": null,
      "outputs": []
    },
    {
      "cell_type": "markdown",
      "source": [
        "We are almost there, not there yet but almost. Let's test out this version to see if everything is working as expected. We first create the dataset where n = 10 and f = 2."
      ],
      "metadata": {
        "id": "xOXYkd0vkaW7"
      }
    },
    {
      "cell_type": "code",
      "source": [
        "import random\n",
        "import numpy as np\n",
        "import pandas as pd\n",
        "\n",
        "random.seed(5)\n",
        "\n",
        "num_points = 10\n",
        "X_data_1 = np.array(random.sample(range(1, 100), num_points))\n",
        "X_data_2 = np.array(random.sample(range(50, 150), num_points))\n",
        "y_data = X_data_1 * 2 + X_data_2 * 5 + np.array([random.randint(-18, 27) for x in range(num_points)])\n",
        "\n",
        "X_data = np.vstack([X_data_1, X_data_2])\n",
        "X_data = X_data.T\n",
        "\n",
        "print(X_data, y_data)"
      ],
      "metadata": {
        "colab": {
          "base_uri": "https://localhost:8080/"
        },
        "id": "xAVUmgMXpe1D",
        "outputId": "ce13b4ce-b705-4d0b-90c6-9f6d491f3c14"
      },
      "execution_count": null,
      "outputs": [
        {
          "output_type": "stream",
          "name": "stdout",
          "text": [
            "[[ 80 133]\n",
            " [ 33  56]\n",
            " [ 95  70]\n",
            " [ 46  64]\n",
            " [ 89  97]\n",
            " [ 84 110]\n",
            " [ 68  81]\n",
            " [  4  98]\n",
            " [ 60 119]\n",
            " [ 32  63]] [843 343 522 407 671 717 534 504 707 365]\n"
          ]
        }
      ]
    },
    {
      "cell_type": "markdown",
      "source": [
        "There is just one more item to fix, which is the gradient."
      ],
      "metadata": {
        "id": "rkQjZMpSk7DF"
      }
    },
    {
      "cell_type": "code",
      "source": [
        "m = np.zeros(X_data.shape[1])\n",
        "c = 0\n",
        "L = 0.0001\n",
        "epochs = 1000"
      ],
      "metadata": {
        "id": "y1dZBC6clFD0"
      },
      "execution_count": null,
      "outputs": []
    },
    {
      "cell_type": "code",
      "source": [
        "def gradient_descent(x, y, m_curr, c_curr, L):\n",
        "  y_pred = (x.dot(m_curr) + c_curr)\n",
        "  loss = y - y_pred\n",
        "\n",
        "  n = len(y)\n",
        "\n",
        "  m_gradient = -(1/n) * x.T.dot(loss)\n",
        "  c_gradient = -(1/n) * np.sum(loss)\n",
        "\n",
        "  m = m_curr - m_gradient * L\n",
        "  c = c_curr - c_gradient * L\n",
        "\n",
        "  return m, c"
      ],
      "metadata": {
        "id": "nduoRJeLqal5"
      },
      "execution_count": null,
      "outputs": []
    },
    {
      "cell_type": "code",
      "source": [
        "for i in range(epochs):\n",
        "  m, c = gradient_descent(X_data, y_data, m, c, L)\n",
        "print(m, c)"
      ],
      "metadata": {
        "colab": {
          "base_uri": "https://localhost:8080/"
        },
        "id": "vdqjSbwgrYeB",
        "outputId": "588f70b7-3620-4795-d6a5-62c9ee24d0e6"
      },
      "execution_count": null,
      "outputs": [
        {
          "output_type": "stream",
          "name": "stdout",
          "text": [
            "[1.86358604 5.0829625 ] -0.11283694655808156\n"
          ]
        }
      ]
    },
    {
      "cell_type": "code",
      "source": [],
      "metadata": {
        "id": "2HEuJ2opYfYk"
      },
      "execution_count": null,
      "outputs": []
    }
  ]
}